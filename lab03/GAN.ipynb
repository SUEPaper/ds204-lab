{
 "cells": [
  {
   "cell_type": "markdown",
   "id": "bb08ad3c-4cef-48a6-967f-8883d862799f",
   "metadata": {},
   "source": [
    "# Generative Adversarial Networks (GANs)\n",
    "\n",
    "All the applications of neural networks that we have explored have been **discriminative models** that take an input and are trained to produce a labeled output. This has ranged from straightforward classification of image categories to sentence generation (which was still phrased as a classification problem, our labels were in vocabulary space and we’d learned a recurrence to capture multi-word labels). In this notebook, we will expand our repetoire, and build **generative models** using neural networks. Specifically, we will learn how to build models which generate novel images that resemble a set of training images.\n",
    "\n",
    "### What is a GAN?\n",
    "\n",
    "In 2014, [Goodfellow et al.](https://arxiv.org/abs/1406.2661) presented a method for training generative models called Generative Adversarial Networks (GANs for short). In a GAN, we build two different neural networks. Our first network is a traditional classification network, called the **discriminator**. We will train the discriminator to take images, and classify them as being real (belonging to the training set) or fake (not present in the training set). Our other network, called the **generator**, will take random noise as input and transform it using a neural network to produce images. The goal of the generator is to fool the discriminator into thinking the images it produced are real.\n",
    "\n",
    "We can think of this back and forth process of the generator ($G$) trying to fool the discriminator ($D$), and the discriminator trying to correctly classify real vs. fake as a minimax game:\n",
    "$$\\underset{G}{\\text{minimize}}\\; \\underset{D}{\\text{maximize}}\\; \\mathbb{E}_{x \\sim p_\\text{data}}\\left[\\log D(x)\\right] + \\mathbb{E}_{z \\sim p(z)}\\left[\\log \\left(1-D(G(z))\\right)\\right]$$\n",
    "where $z \\sim p(z)$ are the random noise samples, $G(z)$ are the generated images using the neural network generator $G$, and $D$ is the output of the discriminator, specifying the probability of an input being real. In [Goodfellow et al.](https://arxiv.org/abs/1406.2661), they analyze this minimax game and show how it relates to minimizing the Jensen-Shannon divergence between the training data distribution and the generated samples from $G$.\n",
    "\n",
    "To optimize this minimax game, we will aternate between taking gradient *descent* steps on the objective for $G$, and gradient *ascent* steps on the objective for $D$:\n",
    "1. update the **generator** ($G$) to minimize the probability of the __discriminator making the correct choice__. \n",
    "2. update the **discriminator** ($D$) to maximize the probability of the __discriminator making the correct choice__.\n",
    "\n",
    "While these updates are useful for analysis, they do not perform well in practice. Instead, we will use a different objective when we update the generator: maximize the probability of the **discriminator making the incorrect choice**. This small change helps to allevaiate problems with the generator gradient vanishing when the discriminator is confident. This is the standard update used in most GAN papers, and was used in the original paper from [Goodfellow et al.](https://arxiv.org/abs/1406.2661). \n",
    "\n",
    "In this assignment, we will alternate the following updates:\n",
    "1. Update the generator ($G$) to maximize the probability of the discriminator making the incorrect choice on generated data:\n",
    "$$\\underset{G}{\\text{maximize}}\\;  \\mathbb{E}_{z \\sim p(z)}\\left[\\log D(G(z))\\right]$$\n",
    "2. Update the discriminator ($D$), to maximize the probability of the discriminator making the correct choice on real and generated data:\n",
    "$$\\underset{D}{\\text{maximize}}\\; \\mathbb{E}_{x \\sim p_\\text{data}}\\left[\\log D(x)\\right] + \\mathbb{E}_{z \\sim p(z)}\\left[\\log \\left(1-D(G(z))\\right)\\right]$$\n",
    "\n",
    "### What else is there?\n",
    "Since 2014, GANs have exploded into a huge research area, with massive [workshops](https://sites.google.com/site/nips2016adversarial/), and [hundreds of new papers](https://github.com/hindupuravinash/the-gan-zoo). Compared to other approaches for generative models, they often produce the highest quality samples but are some of the most difficult and finicky models to train (see [this github repo](https://github.com/soumith/ganhacks) that contains a set of 17 hacks that are useful for getting models working). Improving the stabiilty and robustness of GAN training is an open research question, with new papers coming out every day! For a more recent tutorial on GANs, see [here](https://arxiv.org/abs/1701.00160). There is also some even more recent exciting work that changes the objective function to Wasserstein distance and yields much more stable results across model architectures: [WGAN](https://arxiv.org/abs/1701.07875), [WGAN-GP](https://arxiv.org/abs/1704.00028).\n",
    "\n",
    "\n",
    "GANs are not the only way to train a generative model! For other approaches to generative modeling check out the [deep generative model chapter](http://www.deeplearningbook.org/contents/generative_models.html) of the Deep Learning [book](http://www.deeplearningbook.org). Another popular way of training neural networks as generative models is Variational Autoencoders (co-discovered [here](https://arxiv.org/abs/1312.6114) and [here](https://arxiv.org/abs/1401.4082)). Variatonal autoencoders combine neural networks with variationl inference to train deep generative models. These models tend to be far more stable and easier to train but currently don't produce samples that are as pretty as GANs.\n",
    "\n",
    "Here's an example of what your outputs from the 3 different models you're going to train should look like... note that GANs are sometimes finicky, so your outputs might not look exactly like this... this is just meant to be a *rough* guideline of the kind of quality you can expect:\n",
    "\n",
    "![caption](gan_outputs_pytorch.png)"
   ]
  },
  {
   "cell_type": "markdown",
   "id": "504a1cca-c1fb-421a-8be9-d23ed20f0c03",
   "metadata": {},
   "source": [
    "# Model\n",
    "我们使用 DCGAN 作为 baseline mode。下图为 DCGAN 架构示意图。\n",
    "\n",
    "![DCGAN](DCGAN.png)"
   ]
  },
  {
   "cell_type": "markdown",
   "id": "0df4b898-88fb-4665-81fd-cf36dfaa6837",
   "metadata": {},
   "source": [
    "## 初始化操作"
   ]
  },
  {
   "cell_type": "code",
   "execution_count": 6,
   "id": "9058b42b-46fe-4fc4-b375-426fcb68295b",
   "metadata": {},
   "outputs": [],
   "source": [
    "import random\n",
    "import torch\n",
    "import numpy as np\n",
    "\n",
    "\n",
    "def same_seeds(seed):\n",
    "    torch.manual_seed(seed)\n",
    "    if torch.cuda.is_available():\n",
    "        torch.cuda.manual_seed(seed)\n",
    "        torch.cuda.manual_seed_all(seed)  # if you are using multi-GPU.\n",
    "    np.random.seed(seed)  # Numpy module.\n",
    "    random.seed(seed)  # Python random module.\n",
    "    torch.backends.cudnn.benchmark = False\n",
    "    torch.backends.cudnn.deterministic = True\n",
    "\n",
    "\n",
    "same_seeds(0)"
   ]
  },
  {
   "cell_type": "code",
   "execution_count": 18,
   "id": "bd30f956-c64e-434c-b71c-82f34d1aa510",
   "metadata": {},
   "outputs": [],
   "source": [
    "workspace_dir = os.getcwd()\n",
    "save_dir = os.path.join(workspace_dir, 'logs')\n",
    "os.makedirs(save_dir, exist_ok=True)\n",
    "\n",
    "img_size = 128\n",
    "\n",
    "# hyperparameters\n",
    "batch_size = 64\n",
    "noise_dim = 100\n",
    "learning_rate = 1e-4\n",
    "n_epoch = 10"
   ]
  },
  {
   "cell_type": "markdown",
   "id": "3191a98d-b0f2-4603-9cf7-60151560d8e1",
   "metadata": {},
   "source": [
    "## 准备数据"
   ]
  },
  {
   "cell_type": "markdown",
   "id": "1161bb90-775d-46f3-9e68-07757306b918",
   "metadata": {},
   "source": [
    "请将下载好的数据，加压缩到`lab03`的文件目录下, 然后定义我们数据集。这里我们会用 OpenCV 读取图片，由于OpenCV读取的图片模式是BGR，而 Pytorch中的torchvision处理的图片模式是RGB，因此我们需要将BRG转成RGB。\n",
    "\n",
    "同时为了快速训练一个模型，我们将图片的尺寸resize 到 (64, 64), 当让你也可以修改 img_size 这个参数，调整 resize的尺寸， 不过图片尺寸越大，显存占用也越大，同时训练时间也增多。并且我们让图片的RGB值由 0\\~1 线性转换到 -1~1。"
   ]
  },
  {
   "cell_type": "code",
   "execution_count": 2,
   "id": "ec39d112-9e70-4980-8cfa-803061f075d5",
   "metadata": {},
   "outputs": [],
   "source": [
    "from torch.utils.data import Dataset, DataLoader\n",
    "import cv2\n",
    "import os\n",
    "import glob\n",
    "import torchvision.transforms as transforms\n",
    "import matplotlib.pyplot as plt"
   ]
  },
  {
   "cell_type": "code",
   "execution_count": 4,
   "id": "863ca601-b9c6-4f9a-a974-f925b850cea7",
   "metadata": {},
   "outputs": [],
   "source": [
    "class FaceDataset(Dataset):\n",
    "    def __init__(self, fnames, transform):\n",
    "        self.transform = transform\n",
    "        self.fnames = fnames\n",
    "        self.num_samples = len(self.fnames)\n",
    "\n",
    "    \n",
    "    def __getitem__(self,idx):\n",
    "        fname = self.fnames[idx]\n",
    "        img = cv2.imread(fname)\n",
    "        img = self.BGR2RGB(img) #because \"torchvision.utils.save_image\" use RGB\n",
    "        img = self.transform(img)\n",
    "        return img\n",
    "\n",
    "    \n",
    "    def __len__(self):\n",
    "        return self.num_samples\n",
    "\n",
    "    \n",
    "    def BGR2RGB(self,img):\n",
    "        return cv2.cvtColor(img,cv2.COLOR_BGR2RGB)"
   ]
  },
  {
   "cell_type": "code",
   "execution_count": 8,
   "id": "1140dcec-b72a-4731-b8ce-1171d6b14504",
   "metadata": {},
   "outputs": [],
   "source": [
    "def get_dataset(root):\n",
    "    fnames = glob.glob(os.path.join(root, '*'))\n",
    "    # resize the image to (64, 64)\n",
    "    # linearly map [0, 1] to [-1, 1]\n",
    "    transform = transforms.Compose(\n",
    "        [transforms.ToPILImage(),\n",
    "         transforms.Resize((64, 64)),\n",
    "         transforms.ToTensor(),\n",
    "         transforms.Normalize(mean=[0.5] * 3, std=[0.5] * 3) ] )\n",
    "    dataset = FaceDataset(fnames, transform)\n",
    "    return dataset\n",
    "\n",
    "dataset = get_dataset(os.path.join(workspace_dir, 'faces'))\n",
    "dataloader = DataLoader(dataset, batch_size=batch_size, shuffle=True, num_workers=4)"
   ]
  },
  {
   "cell_type": "markdown",
   "id": "bcc224f9-eef0-4b5a-afa0-2c18356e79c7",
   "metadata": {},
   "source": [
    "### 查看数据集\n",
    "可以随便选择一张数据集的图片进行查看"
   ]
  },
  {
   "cell_type": "code",
   "execution_count": 9,
   "id": "4a89ee0d-2c0b-453e-b1ff-0ee102a7c2a2",
   "metadata": {},
   "outputs": [
    {
     "name": "stderr",
     "output_type": "stream",
     "text": [
      "Clipping input data to the valid range for imshow with RGB data ([0..1] for floats or [0..255] for integers).\n"
     ]
    },
    {
     "data": {
      "text/plain": [
       "<matplotlib.image.AxesImage at 0x7efe7ed669b0>"
      ]
     },
     "execution_count": 9,
     "metadata": {},
     "output_type": "execute_result"
    },
    {
     "data": {
      "image/png": "[encoded data removed]",
      "text/plain": [
       "<Figure size 640x480 with 1 Axes>"
      ]
     },
     "metadata": {},
     "output_type": "display_data"
    }
   ],
   "source": [
    "plt.imshow(dataset[10].numpy().transpose(1,2,0))"
   ]
  },
  {
   "cell_type": "markdown",
   "id": "03b99a45-324f-4422-99c5-91c402a96d71",
   "metadata": {},
   "source": [
    "## Random Noise\n",
    "Generate uniform noise from -1 to 1 with shape `[batch_size, dim]`.\n",
    "\n",
    "Hint: use `torch.rand`."
   ]
  },
  {
   "cell_type": "code",
   "execution_count": 11,
   "id": "8d637334-af20-4fa6-a418-de870ad1ab43",
   "metadata": {},
   "outputs": [],
   "source": [
    "def sample_noise(batch_size, dim):\n",
    "    \"\"\"\n",
    "    Generate a PyTorch Tensor of uniform random noise.\n",
    "\n",
    "    Input:\n",
    "    - batch_size: Integer giving the batch size of noise to generate.\n",
    "    - dim: Integer giving the dimension of noise to generate.\n",
    "    \n",
    "    Output:\n",
    "    - A PyTorch Tensor of shape (batch_size, dim) containing uniform\n",
    "      random noise in the range (-1, 1).\n",
    "    \"\"\"\n",
    "    noise = (torch.rand((batch_size, dim)) - 0.5) * 2\n",
    "    return noise"
   ]
  },
  {
   "cell_type": "markdown",
   "id": "fa7960d5-5181-40bb-9879-d118fc34ad38",
   "metadata": {},
   "source": [
    "## CPU / GPU\n",
    "By default all code will run on CPU. GPUs are not needed for this assignment, but will help you to train your models faster. If you do want to run the code on a GPU, then change the `dtype` variable in the following cell."
   ]
  },
  {
   "cell_type": "code",
   "execution_count": 16,
   "id": "48424702-f20a-439a-a020-550903b76f18",
   "metadata": {},
   "outputs": [
    {
     "name": "stdout",
     "output_type": "stream",
     "text": [
      "Using cuda device\n"
     ]
    }
   ],
   "source": [
    "# Get cpu, gpu or mps device for training.\n",
    "device = (\n",
    "    \"cuda\"\n",
    "    if torch.cuda.is_available()\n",
    "    else \"mps\"\n",
    "    if torch.backends.mps.is_available()\n",
    "    else \"cpu\"\n",
    ")\n",
    "print(f\"Using {device} device\")"
   ]
  },
  {
   "cell_type": "markdown",
   "id": "f59986ee-e6d2-4aef-8b10-a70db087362a",
   "metadata": {},
   "source": [
    "## 权重初始化"
   ]
  },
  {
   "cell_type": "code",
   "execution_count": null,
   "id": "179beaff-7b7f-45b9-a726-2668b0f1e859",
   "metadata": {},
   "outputs": [],
   "source": [
    "def weights_init(m):\n",
    "    classname = m.__class__.__name__\n",
    "    if classname.find('Conv') != -1:\n",
    "        m.weight.data.normal_(0.0, 0.02)\n",
    "    elif classname.find('BatchNorm') != -1:\n",
    "        m.weight.data.normal_(1.0, 0.02)\n",
    "        m.bias.data.fill_(0)"
   ]
  },
  {
   "cell_type": "markdown",
   "id": "765672f6-cabf-49fd-aedf-ea72efb262a2",
   "metadata": {},
   "source": [
    "# Discriminator\n",
    "Our first step is to build a discriminator. Fill in the architecture as part of the `nn.Sequential` constructor in the function below. All fully connected layers should include bias terms. The architecture is:\n",
    " * Fully connected layer with input size 784 and output size 256\n",
    " * LeakyReLU with alpha 0.01\n",
    " * Fully connected layer with input_size 256 and output size 256\n",
    " * LeakyReLU with alpha 0.01\n",
    " * Fully connected layer with input size 256 and output size 1\n",
    " \n",
    "Recall that the Leaky ReLU nonlinearity computes $f(x) = \\max(\\alpha x, x)$ for some fixed constant $\\alpha$; for the LeakyReLU nonlinearities in the architecture above we set $\\alpha=0.01$.\n",
    " \n",
    "The output of the discriminator should have shape `[batch_size, 1]`, and contain real numbers corresponding to the scores that each of the `batch_size` inputs is a real image."
   ]
  },
  {
   "cell_type": "code",
   "execution_count": 21,
   "id": "851d300c-88d7-4771-a70c-0c5369dc2ccf",
   "metadata": {},
   "outputs": [],
   "source": [
    "class Discriminator(torch.nn.Module):\n",
    "    \"\"\"\n",
    "    input (N, 3, 128, 128)\n",
    "    output (N, )\n",
    "    \"\"\"\n",
    "    def __init__(self, in_dim, dim=64):\n",
    "        super(Discriminator, self).__init__()\n",
    "        \n",
    "        def conv_bn_lrelu(in_dim, out_dim):\n",
    "            return nn.Sequential(\n",
    "                nn.Conv2d(in_dim, out_dim, 5, 2, 2),\n",
    "                nn.BatchNorm2d(out_dim),\n",
    "                nn.LeakyReLU(0.2))\n",
    "            \n",
    "        self.ls = nn.Sequential(\n",
    "            nn.Conv2d(in_dim, dim, 5, 2, 2), nn.LeakyReLU(0.2),\n",
    "            conv_bn_lrelu(dim, dim * 2),\n",
    "            conv_bn_lrelu(dim * 2, dim * 4),\n",
    "            conv_bn_lrelu(dim * 4, dim * 8),\n",
    "            nn.Conv2d(dim * 8, 1, 4),\n",
    "            nn.Sigmoid())\n",
    "        \n",
    "        self.apply(weights_init)\n",
    "\n",
    "    \n",
    "    def forward(self, x):\n",
    "        y = self.ls(x)\n",
    "        y = y.view(-1)\n",
    "        return y"
   ]
  },
  {
   "cell_type": "markdown",
   "id": "87fd3329-78e8-47ec-9ef6-699ec7c5557d",
   "metadata": {},
   "source": [
    "# Generator\n",
    "Now to build the generator network:\n",
    " * Fully connected layer from noise_dim to 1024\n",
    " * `ReLU`\n",
    " * Fully connected layer with size 1024 \n",
    " * `ReLU`\n",
    " * Fully connected layer with size 784\n",
    " * `TanH` (to clip the image to be in the range of [-1,1])"
   ]
  },
  {
   "cell_type": "code",
   "execution_count": 22,
   "id": "a1fe3355-4f36-406b-8500-83341bc1d1dc",
   "metadata": {},
   "outputs": [],
   "source": [
    "class Generator(torch.nn.Module):\n",
    "    \"\"\"\n",
    "    input (N, in_dim)\n",
    "    output (N, 3, 128, 128)\n",
    "    \"\"\"\n",
    "    def __init__(self, in_dim, dim=64):\n",
    "        super(Generator, self).__init__()\n",
    "        def dconv_bn_relu(in_dim, out_dim):\n",
    "            return nn.Sequential(\n",
    "                nn.ConvTranspose2d(in_dim, out_dim, 5, 2,\n",
    "                                   padding=2, output_padding=1, bias=False),\n",
    "                nn.BatchNorm2d(out_dim),\n",
    "                nn.ReLU())\n",
    "            \n",
    "        self.l1 = nn.Sequential(\n",
    "            nn.Linear(in_dim, dim * 8 * 4 * 4, bias=False),\n",
    "            nn.BatchNorm1d(dim * 8 * 4 * 4),\n",
    "            nn.ReLU())\n",
    "        \n",
    "        self.l2_5 = nn.Sequential(\n",
    "            dconv_bn_relu(dim * 8, dim * 4),\n",
    "            dconv_bn_relu(dim * 4, dim * 2),\n",
    "            dconv_bn_relu(dim * 2, dim),\n",
    "            nn.ConvTranspose2d(dim, 3, 5, 2, padding=2, output_padding=1),\n",
    "            nn.Tanh())\n",
    "        \n",
    "        self.apply(weights_init)\n",
    "\n",
    "    \n",
    "    def forward(self, x):\n",
    "        \n",
    "        y = self.l1(x)\n",
    "        y = y.view(y.size(0), -1, 4, 4)\n",
    "        y = self.l2_5(y)\n",
    "        return y"
   ]
  },
  {
   "cell_type": "markdown",
   "id": "3b2fab20-9094-4a9e-be5e-d52e82100128",
   "metadata": {},
   "source": [
    "# GAN Loss\n",
    "\n",
    "Compute the generator and discriminator loss. The generator loss is:\n",
    "$$\\ell_G  =  -\\mathbb{E}_{z \\sim p(z)}\\left[\\log D(G(z))\\right]$$\n",
    "and the discriminator loss is:\n",
    "$$ \\ell_D = -\\mathbb{E}_{x \\sim p_\\text{data}}\\left[\\log D(x)\\right] - \\mathbb{E}_{z \\sim p(z)}\\left[\\log \\left(1-D(G(z))\\right)\\right]$$\n",
    "Note that these are negated from the equations presented earlier as we will be *minimizing* these losses.\n",
    "\n",
    "**HINTS**: You should use the `bce_loss` function defined below to compute the binary cross entropy loss which is needed to compute the log probability of the true label given the logits output from the discriminator. Given a score $s\\in\\mathbb{R}$ and a label $y\\in\\{0, 1\\}$, the binary cross entropy loss is\n",
    "\n",
    "$$ bce(s, y) = -y * \\log(s) - (1 - y) * \\log(1 - s) $$\n",
    "\n",
    "A naive implementation of this formula can be numerically unstable, so we have provided a numerically stable implementation for you below.\n",
    "\n",
    "You will also need to compute labels corresponding to real or fake and use the logit arguments to determine their size. Make sure you cast these labels to the correct data type using the global `dtype` variable, for example:\n",
    "\n",
    "\n",
    "`true_labels = torch.ones(size).type(dtype)`\n",
    "\n",
    "Instead of computing the expectation of $\\log D(G(z))$, $\\log D(x)$ and $\\log \\left(1-D(G(z))\\right)$, we will be averaging over elements of the minibatch, so make sure to combine the loss by averaging instead of summing."
   ]
  },
  {
   "cell_type": "code",
   "execution_count": null,
   "id": "b4217473-e0da-4770-a011-c17fc2646451",
   "metadata": {},
   "outputs": [],
   "source": [
    "bce_loss = torch.nn.BCELoss()\n",
    "\n",
    "def discriminator_loss(logits_real, logits_fake):\n",
    "    \"\"\"\n",
    "    Computes the discriminator loss described above.\n",
    "    \n",
    "    Inputs:\n",
    "    - logits_real: PyTorch Tensor of shape (N,) giving scores for the real data.\n",
    "    - logits_fake: PyTorch Tensor of shape (N,) giving scores for the fake data.\n",
    "    \n",
    "    Returns:\n",
    "    - loss: PyTorch Tensor containing (scalar) the loss for the discriminator.\n",
    "    \"\"\"\n",
    "    N = logits_real.size(0)\n",
    "    \n",
    "    labels_real = torch.ones(N).to(device)\n",
    "    labels_fake = torch.zeros(N).to(device)\n",
    "\n",
    "    loss_real = None\n",
    "    loss_fake = None \n",
    "    \n",
    "    loss_real = bce_loss(logits_real, labels_real)\n",
    "    loss_fake = bce_loss(logits_fake, labels_fake)\n",
    "    \n",
    "    loss = loss_real + loss_fake\n",
    "    return loss\n",
    "    \n",
    "\n",
    "def generator_loss(logits_fake, labels_real):\n",
    "    \"\"\"\n",
    "    Computes the generator loss described above.\n",
    "\n",
    "    Inputs:\n",
    "    - logits_fake: PyTorch Tensor of shape (N,) giving scores for the fake data.\n",
    "    \n",
    "    Returns:\n",
    "    - loss: PyTorch Tensor containing the (scalar) loss for the generator.\n",
    "    \"\"\"\n",
    "    loss = None\n",
    "    \n",
    "    loss = bce_loss(logits_fake, labels_real)\n",
    "    \n",
    "    return loss"
   ]
  },
  {
   "cell_type": "markdown",
   "id": "fa04d143-a282-4b84-8b31-08f7849db9b0",
   "metadata": {},
   "source": [
    "## Optimizing our loss\n",
    "Make a function that returns an `optim.Adam` optimizer for the given model with a 1e-3 learning rate, beta1=0.5, beta2=0.999. You'll use this to construct optimizers for the generators and discriminators for the rest of the notebook."
   ]
  },
  {
   "cell_type": "code",
   "execution_count": null,
   "id": "57a5e0c2-b6b2-4788-9253-cacdaac3f009",
   "metadata": {},
   "outputs": [],
   "source": [
    "def get_optimizer(model, lr=1e-3, beta1 = 0.5, beta2 = 0.999):\n",
    "    \"\"\"\n",
    "    Construct and return an Adam optimizer for the model with default learning rate 1e-3,\n",
    "    beta1=0.5, and beta2=0.999.\n",
    "    \n",
    "    Input:\n",
    "    - model: A PyTorch model that we want to optimize.\n",
    "    \n",
    "    Returns:\n",
    "    - An Adam optimizer for the model with the desired hyperparameters.\n",
    "    \"\"\"\n",
    "    \n",
    "    optimizer = optim.Adam(model.parameters(), lr=lr, betas=(beta1, beta2))\n",
    "    \n",
    "    return optimizer"
   ]
  },
  {
   "cell_type": "code",
   "execution_count": 19,
   "id": "f0164b5b-6c9e-4352-a8a8-ed5d4ed38276",
   "metadata": {},
   "outputs": [
    {
     "ename": "NameError",
     "evalue": "name 'Generator' is not defined",
     "output_type": "error",
     "traceback": [
      "\u001b[0;31m---------------------------------------------------------------------------\u001b[0m",
      "\u001b[0;31mNameError\u001b[0m                                 Traceback (most recent call last)",
      "Cell \u001b[0;32mIn[19], line 2\u001b[0m\n\u001b[1;32m      1\u001b[0m \u001b[38;5;66;03m# Model \u001b[39;00m\n\u001b[0;32m----> 2\u001b[0m G \u001b[38;5;241m=\u001b[39m \u001b[43mGenerator\u001b[49m(in_dim\u001b[38;5;241m=\u001b[39mnoise_dim)\u001b[38;5;241m.\u001b[39mto(device)\n\u001b[1;32m      3\u001b[0m D \u001b[38;5;241m=\u001b[39m Discriminator(\u001b[38;5;241m3\u001b[39m)\u001b[38;5;241m.\u001b[39mto(device)\n\u001b[1;32m      4\u001b[0m G\u001b[38;5;241m.\u001b[39mtrain()\n",
      "\u001b[0;31mNameError\u001b[0m: name 'Generator' is not defined"
     ]
    }
   ],
   "source": [
    "# Model \n",
    "G = Generator(in_dim=noise_dim).to(device)\n",
    "D = Discriminator(3).to(device)\n",
    "G.train()\n",
    "D.train()\n",
    "\n",
    "# optimizer\n",
    "opt_D = torch.optim.Adam(D.parameters(), lr=lr, betas=(0.5, 0.999))\n",
    "opt_G = torch.optim.Adam(G.parameters(), lr=lr, betas=(0.5, 0.999))"
   ]
  },
  {
   "cell_type": "markdown",
   "id": "449ea5a9-3f20-4e17-832e-e57d7757dbed",
   "metadata": {},
   "source": [
    "# Training a GAN!\n",
    "\n",
    "We provide you the main training loop... you won't need to change this function, but we encourage you to read through and understand it. \n",
    "\n",
    "接下来就可以开始训练了。我们定期储存一些图片，让你观察 Generator 目前的效果。并且定期纪录 checkpoint。"
   ]
  },
  {
   "cell_type": "code",
   "execution_count": null,
   "id": "f4043b30-7e1b-4931-a39a-66259b9e5569",
   "metadata": {},
   "outputs": [],
   "source": [
    "# for logging\n",
    "z_sample = Variable(torch.randn(100, z_dim)).cuda()\n",
    "\n",
    "for e, epoch in enumerate(range(n_epoch)):\n",
    "    for i, data in enumerate(dataloader):\n",
    "        imgs = data\n",
    "        imgs = imgs.cuda()\n",
    "\n",
    "        bs = imgs.size(0)\n",
    "\n",
    "        \"\"\" Train D \"\"\"\n",
    "        z = Variable(torch.randn(bs, z_dim)).cuda()\n",
    "        r_imgs = Variable(imgs).cuda()\n",
    "        f_imgs = G(z)\n",
    "\n",
    "        # label\n",
    "        r_label = torch.ones((bs)).cuda()\n",
    "        f_label = torch.zeros((bs)).cuda()\n",
    "\n",
    "        # dis\n",
    "        r_logit = D(r_imgs.detach())\n",
    "        f_logit = D(f_imgs.detach())\n",
    "\n",
    "        # compute loss\n",
    "        r_loss = criterion(r_logit, r_label)\n",
    "        f_loss = criterion(f_logit, f_label)\n",
    "        loss_D = (r_loss + f_loss) / 2\n",
    "\n",
    "        # update model\n",
    "        D.zero_grad()\n",
    "        loss_D.backward()\n",
    "        opt_D.step()\n",
    "\n",
    "        \"\"\" train G \"\"\"\n",
    "        # leaf\n",
    "        z = Variable(torch.randn(bs, z_dim)).cuda()\n",
    "        f_imgs = G(z)\n",
    "\n",
    "        # dis\n",
    "        f_logit = D(f_imgs)\n",
    "\n",
    "        # compute loss\n",
    "        loss_G = criterion(f_logit, r_label)\n",
    "\n",
    "        # update model\n",
    "        G.zero_grad()\n",
    "        loss_G.backward()\n",
    "        opt_G.step()\n",
    "\n",
    "        # log\n",
    "        print(f'\\rEpoch [{epoch+1}/{n_epoch}] {i+1}/{len(dataloader)} Loss_D: {loss_D.item():.4f} Loss_G: {loss_G.item():.4f}', end='')\n",
    "    G.eval()\n",
    "    f_imgs_sample = (G(z_sample).data + 1) / 2.0\n",
    "    filename = os.path.join(save_dir, f'Epoch_{epoch+1:03d}.jpg')\n",
    "    torchvision.utils.save_image(f_imgs_sample, filename, nrow=10)\n",
    "    print(f' | Save some samples to {filename}.')\n",
    "    # show generated image\n",
    "    grid_img = torchvision.utils.make_grid(f_imgs_sample.cpu(), nrow=10)\n",
    "    plt.figure(figsize=(10,10))\n",
    "    plt.imshow(grid_img.permute(1, 2, 0))\n",
    "    plt.show()\n",
    "    G.train()\n",
    "    if (e+1) % 5 == 0:\n",
    "        torch.save(G.state_dict(), os.path.join(workspace_dir, f'dcgan_g.pth'))\n",
    "        torch.save(D.state_dict(), os.path.join(workspace_dir, f'dcgan_d.pth'))\n"
   ]
  },
  {
   "cell_type": "markdown",
   "id": "60bebfe0-cde1-415d-8fcb-f81a5bf062fb",
   "metadata": {},
   "source": [
    "# Inference\n",
    "利用我们训练好的 Generator 来随机生成图片。"
   ]
  },
  {
   "cell_type": "code",
   "execution_count": null,
   "id": "10e08ea4-57a4-4e62-b823-c1f79a93e3a8",
   "metadata": {},
   "outputs": [],
   "source": [
    "import torch\n",
    "# load pretrained model\n",
    "G = Generator(noise_dim)\n",
    "G.load_state_dict(torch.load(os.path.join(workspace_dir, 'dcgan_g.pth')))\n",
    "G.eval()\n",
    "G.to(device)"
   ]
  },
  {
   "cell_type": "code",
   "execution_count": null,
   "id": "07565211-6af1-46a2-974f-856e3954a76b",
   "metadata": {},
   "outputs": [],
   "source": [
    "# generate images and save the result\n",
    "n_output = 100\n",
    "z_sample = Variable(torch.randn(n_output, z_dim)).to(device)\n",
    "imgs_sample = (G(z_sample).data + 1) / 2.0\n",
    "save_dir = os.path.join(workspace_dir, 'logs')\n",
    "filename = os.path.join(save_dir, f'result.jpg')\n",
    "torchvision.utils.save_image(imgs_sample, filename, nrow=10)\n",
    "# show image\n",
    "grid_img = torchvision.utils.make_grid(imgs_sample.cpu(), nrow=10)\n",
    "plt.figure(figsize=(10,10))\n",
    "plt.imshow(grid_img.permute(1, 2, 0))\n",
    "plt.show()"
   ]
  }
 ],
 "metadata": {
  "kernelspec": {
   "display_name": "Python 3 (ipykernel)",
   "language": "python",
   "name": "python3"
  },
  "language_info": {
   "codemirror_mode": {
    "name": "ipython",
    "version": 3
   },
   "file_extension": ".py",
   "mimetype": "text/x-python",
   "name": "python",
   "nbconvert_exporter": "python",
   "pygments_lexer": "ipython3",
   "version": "3.10.12"
  }
 },
 "nbformat": 4,
 "nbformat_minor": 5
}
