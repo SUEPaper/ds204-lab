{
 "cells": [
  {
   "cell_type": "markdown",
   "id": "286a1b33",
   "metadata": {},
   "source": [
    "# 从零开始构建你的第一个神经网络\n",
    "\n",
    "在这个笔记本中，您将实现构建深度神经网络所需的所有函数。\n",
    "\n",
    "**完成此lab后，你可以实现如下功能:**\n",
    "- 构建一个更深的神经网络（具有超过1个隐藏层）\n",
    "- 实现一个易于使用的神经网络类\n",
    "\n",
    "**Notation**:\n",
    "- Superscript $[l]$ denotes a quantity associated with the $l^{th}$ layer. \n",
    "    - Example: $a^{[L]}$ is the $L^{th}$ layer activation. $W^{[L]}$ and $b^{[L]}$ are the $L^{th}$ layer parameters.\n",
    "- Superscript $(i)$ denotes a quantity associated with the $i^{th}$ example. \n",
    "    - Example: $x^{(i)}$ is the $i^{th}$ training example.\n",
    "- Lowerscript $i$ denotes the $i^{th}$ entry of a vector.\n",
    "    - Example: $a^{[l]}_i$ denotes the $i^{th}$ entry of the $l^{th}$ layer's activations).\n",
    "    \n",
    "让我们开始吧！！！"
   ]
  },
  {
   "cell_type": "code",
   "execution_count": null,
   "id": "dd2004cd",
   "metadata": {},
   "outputs": [],
   "source": [
    "import numpy as np\n",
    "import matplotlib.pyplot as plt\n",
    "\n",
    "%matplotlib inline\n",
    "plt.rcParams['figure.figsize'] = (5.0, 4.0) # set default size of plots\n",
    "plt.rcParams['image.interpolation'] = 'nearest'\n",
    "plt.rcParams['image.cmap'] = 'gray'\n",
    "\n",
    "%load_ext autoreload\n",
    "%autoreload 2\n",
    "\n",
    "np.random.seed(1)"
   ]
  },
  {
   "cell_type": "markdown",
   "id": "537089a1",
   "metadata": {},
   "source": [
    "\n",
    "# 1 - A affine (fully-connected) layer\n",
    "\n",
    "## 1.1 - Linear forward\n",
    "\n",
    "Now that you have initialized your parameters, you will do the forward propagation module. You will start by implementing some basic functions that you will use later when implementing the model. You will complete three functions in this order:\n",
    "\n",
    "- LINEAR\n",
    "- LINEAR -> ACTIVATION where ACTIVATION will be either ReLU or Sigmoid. \n",
    "- [LINEAR -> RELU] $\\times$ (L-1) -> LINEAR -> SIGMOID (whole model)\n",
    "\n",
    "The linear forward module (vectorized over all the examples) computes the following equations:\n",
    "\n",
    "$$Z^{[l]} = W^{[l]}A^{[l-1]} +b^{[l]}\\tag{4}$$\n",
    "\n",
    "where $A^{[0]} = X$. \n",
    "\n",
    "**Exercise**: Build the linear part of forward propagation.\n",
    "\n",
    "**Reminder**:\n",
    "The mathematical representation of this unit is $Z^{[l]} = W^{[l]}A^{[l-1]} +b^{[l]}$. You may also find `np.dot()` useful. If your dimensions don't match, printing `W.shape` may help."
   ]
  },
  {
   "cell_type": "code",
   "execution_count": null,
   "id": "45ed58e0",
   "metadata": {},
   "outputs": [],
   "source": [
    "from layers import linear_forward\n",
    "from test_cases import linear_forward_test_case\n",
    "\n",
    "A, W, b = linear_forward_test_case()\n",
    "\n",
    "Z, linear_cache = linear_forward(A, W, b)\n",
    "print(\"Z = \" + str(Z))"
   ]
  },
  {
   "cell_type": "markdown",
   "id": "b7b93e06",
   "metadata": {},
   "source": [
    "**预期得到的输出**:\n",
    "\n",
    "```\n",
    "Z = [[ 3.26295337 -1.23429987]]\n",
    "```"
   ]
  },
  {
   "cell_type": "markdown",
   "id": "82ca08a9",
   "metadata": {},
   "source": [
    "## 1.2 - Linear backward\n",
    "\n",
    "For layer $l$, the linear part is: $Z^{[l]} = W^{[l]} A^{[l-1]} + b^{[l]}$ (followed by an activation).\n",
    "\n",
    "Suppose you have already calculated the derivative $dZ^{[l]} = \\frac{\\partial \\mathcal{L} }{\\partial Z^{[l]}}$. You want to get $(dW^{[l]}, db^{[l]}, dA^{[l-1]})$.\n",
    "\n",
    "<img src=\"images/linearback_kiank.png\" style=\"width:250px;height:300px;\">\n",
    "<caption><center> **Figure 4** </center></caption>\n",
    "\n",
    "The three outputs $(dW^{[l]}, db^{[l]}, dA^{[l-1]})$ are computed using the input $dZ^{[l]}$.Here are the formulas you need:\n",
    "$$ dW^{[l]} = \\frac{\\partial \\mathcal{J} }{\\partial W^{[l]}} = \\frac{1}{m} dZ^{[l]} A^{[l-1] T} \\tag{8}$$\n",
    "$$ db^{[l]} = \\frac{\\partial \\mathcal{J} }{\\partial b^{[l]}} = \\frac{1}{m} \\sum_{i = 1}^{m} dZ^{[l](i)}\\tag{9}$$\n",
    "$$ dA^{[l-1]} = \\frac{\\partial \\mathcal{L} }{\\partial A^{[l-1]}} = W^{[l] T} dZ^{[l]} \\tag{10}$$"
   ]
  },
  {
   "cell_type": "code",
   "execution_count": null,
   "id": "0e89e76b",
   "metadata": {},
   "outputs": [],
   "source": [
    "from layers import linear_backward\n",
    "from test_cases import linear_backward_test_case\n",
    "\n",
    "dZ, linear_cache = linear_backward_test_case()\n",
    "\n",
    "dA_prev, dW, db = linear_backward(dZ, linear_cache)\n",
    "print(\"dA_prev = \"+ str(dA_prev))\n",
    "print(\"dW = \" + str(dW))\n",
    "print(\"db = \" + str(db))"
   ]
  },
  {
   "cell_type": "markdown",
   "id": "04f3b8b4",
   "metadata": {},
   "source": [
    "**预期得到的输出**:\n",
    "    \n",
    "```\n",
    "dA_prev = \n",
    " [[ 0.51822968 -0.19517421]\n",
    " [-0.40506361  0.15255393]\n",
    " [ 2.37496825 -0.89445391]]\n",
    "dW = \n",
    " [[-0.10076895  1.40685096  1.64992505]]\n",
    "db = \n",
    " [[0.50629448]]\n",
    "```"
   ]
  },
  {
   "cell_type": "markdown",
   "id": "a195374f",
   "metadata": {},
   "source": [
    "# 2 - 激活函数\n",
    "\n",
    "## 2.1 - Sigmoid function\n",
    "\n",
    "### 2.1.1 - Sigmoid forward\n",
    "\n",
    "**Sigmoid**: $\\sigma(Z) = \\sigma(W A + b) = \\frac{1}{ 1 + e^{-(W A + b)}}$. We have provided you with the `sigmoid` function. This function returns **two** items: the activation value \"`a`\" and a \"`cache`\" that contains \"`Z`\" (it's what we will feed in to the corresponding backward function)."
   ]
  },
  {
   "cell_type": "code",
   "execution_count": null,
   "id": "ef5c18cf",
   "metadata": {},
   "outputs": [],
   "source": [
    "from layers import sigmoid_forward\n",
    "from test_cases import sigmoid_forward_test_case\n",
    "\n",
    "Z = sigmoid_forward_test_case()\n",
    "\n",
    "A, cache = sigmoid_forward(Z)\n",
    "\n",
    "print(\"A = \" + str(A))\n",
    "print(\"cache = \" + str(cache))"
   ]
  },
  {
   "cell_type": "markdown",
   "id": "3dd0614c",
   "metadata": {},
   "source": [
    "**预期得到的输出**:\n",
    "    \n",
    "```\n",
    "A = [[0.39729283 0.485937   0.10562821]\n",
    " [0.83757178 0.14265203 0.3011669 ]]\n",
    "cache = [[-0.41675785 -0.05626683 -2.1361961 ]\n",
    " [ 1.64027081 -1.79343559 -0.84174737]]\n",
    "```"
   ]
  },
  {
   "cell_type": "markdown",
   "id": "8b874711",
   "metadata": {},
   "source": [
    "### 2.1.2 - Sigmoid backward"
   ]
  },
  {
   "cell_type": "code",
   "execution_count": null,
   "id": "fa26cf07",
   "metadata": {},
   "outputs": [],
   "source": [
    "from layers import sigmoid_backward\n",
    "from test_cases import sigmoid_backward_test_case\n",
    "\n",
    "dA, cache = sigmoid_backward_test_case()\n",
    "\n",
    "dZ = sigmoid_backward(dA, cache)\n",
    "\n",
    "print(\"dZ = \" + str(dZ))"
   ]
  },
  {
   "cell_type": "markdown",
   "id": "263f38ed",
   "metadata": {},
   "source": [
    "**预期得到的输出**:\n",
    "    \n",
    "```\n",
    "dZ = dZ = [[-0.09787036 -0.00976551 -0.40863549]\n",
    " [ 0.335792   -0.41592828 -0.07015842]]\n",
    "```"
   ]
  },
  {
   "cell_type": "markdown",
   "id": "cdabd38a",
   "metadata": {},
   "source": [
    "## 2.2 Relu 函数\n",
    "### 2.2.1 Relu 函数前向传\n",
    "**ReLU**: The mathematical formula for ReLu is $A = RELU(Z) = max(0, Z)$. We have provided you with the `relu` function. This function returns **two** items: the activation value \"`A`\" and a \"`cache`\" that contains \"`Z`\" (it's what we will feed in to the corresponding backward function). 播"
   ]
  },
  {
   "cell_type": "code",
   "execution_count": null,
   "id": "40d5aeb9",
   "metadata": {},
   "outputs": [],
   "source": [
    "from layers import relu_forward\n",
    "from test_cases import relu_forward_test_case\n",
    "\n",
    "Z = relu_forward_test_case()\n",
    "\n",
    "A, cache = relu_forward(Z)\n",
    "\n",
    "print(\"A = \" + str(A))\n",
    "print(\"cache = \" + str(cache))"
   ]
  },
  {
   "cell_type": "markdown",
   "id": "f9ae2862",
   "metadata": {},
   "source": [
    "**预期得到的输出**:\n",
    "    \n",
    "```\n",
    "A = [[1.62434536 0.         0.        ]\n",
    " [0.         0.86540763 0.        ]]\n",
    "cache = [[ 1.62434536 -0.61175641 -0.52817175]\n",
    " [-1.07296862  0.86540763 -2.3015387 ]]\n",
    "```"
   ]
  },
  {
   "cell_type": "markdown",
   "id": "007c1359",
   "metadata": {},
   "source": [
    "### 2.2.2 Relu 函数后向传播"
   ]
  },
  {
   "cell_type": "code",
   "execution_count": null,
   "id": "56e88d4d",
   "metadata": {},
   "outputs": [],
   "source": [
    "from layers import relu_backward\n",
    "from test_cases import relu_backward_test_case\n",
    "\n",
    "dA, cache = relu_backward_test_case()\n",
    "\n",
    "dZ = relu_backward(dA, cache)\n",
    "\n",
    "print(\"dZ = \" + str(dZ))"
   ]
  },
  {
   "cell_type": "markdown",
   "id": "11d7ce5b",
   "metadata": {},
   "source": [
    "**预期得到的输出**:\n",
    "    \n",
    "```\n",
    "dZ = [[ 1.62434536  0.         -0.52817175]\n",
    " [ 0.          0.86540763  0.        ]]\n",
    "```"
   ]
  },
  {
   "cell_type": "markdown",
   "id": "e06f8077",
   "metadata": {},
   "source": [
    "# 3 - Linear-Activation \n",
    "\n",
    "## 3.1 - Forward\n",
    "\n",
    "For more convenience, you are going to group two functions (Linear and Activation) into one function (LINEAR->ACTIVATION). Hence, you will implement a function that does the LINEAR forward step followed by an ACTIVATION forward step.\n",
    "\n",
    "**Exercise**: Implement the forward propagation of the *LINEAR->ACTIVATION* layer. Mathematical relation is: $A^{[l]} = g(Z^{[l]}) = g(W^{[l]}A^{[l-1]} +b^{[l]})$ where the activation \"g\" can be sigmoid() or relu(). Use linear_forward() and the correct activation function."
   ]
  },
  {
   "cell_type": "code",
   "execution_count": null,
   "id": "d91ca72c",
   "metadata": {},
   "outputs": [],
   "source": [
    "from layers import linear_activation_forward\n",
    "from test_cases import linear_activation_forward_test_case\n",
    "\n",
    "A_prev, W, b = linear_activation_forward_test_case()\n",
    "\n",
    "A, linear_activation_cache = linear_activation_forward(A_prev, W, b, activation = \"sigmoid\")\n",
    "print(\"With sigmoid: A = \" + str(A))\n",
    "\n",
    "A, linear_activation_cache = linear_activation_forward(A_prev, W, b, activation = \"relu\")\n",
    "print(\"With ReLU: A = \" + str(A))"
   ]
  },
  {
   "cell_type": "markdown",
   "id": "28959d2e",
   "metadata": {},
   "source": [
    "**预期得到的输出**:\n",
    "    \n",
    "```\n",
    "With sigmoid: A = [[ 0.96890023  0.11013289]]\n",
    "With ReLU: A = [[ 3.43896131  0.        ]]\n",
    "```"
   ]
  },
  {
   "cell_type": "markdown",
   "id": "a4387b0b",
   "metadata": {},
   "source": [
    "3.2 - Backward\n",
    "\n",
    "\n",
    "If $g(.)$ is the activation function, \n",
    "`sigmoid_backward` and `relu_backward` compute $$dZ^{[l]} = dA^{[l]} * g'(Z^{[l]}) \\tag{11}$$.  \n",
    "\n",
    "**Exercise**: Implement the backpropagation for the *LINEAR->ACTIVATION* layer."
   ]
  },
  {
   "cell_type": "code",
   "execution_count": null,
   "id": "ae7608e2",
   "metadata": {},
   "outputs": [],
   "source": [
    "from layers import linear_activation_backward\n",
    "from test_cases import linear_activation_backward_test_case\n",
    "\n",
    "\n",
    "dAL, linear_activation_cache = linear_activation_backward_test_case()\n",
    "\n",
    "dA_prev, dW, db = linear_activation_backward(dAL, linear_activation_cache, activation = \"sigmoid\")\n",
    "print (\"sigmoid:\")\n",
    "print (\"dA_prev = \"+ str(dA_prev))\n",
    "print (\"dW = \" + str(dW))\n",
    "print (\"db = \" + str(db) + \"\\n\")\n",
    "\n",
    "dA_prev, dW, db = linear_activation_backward(dAL, linear_activation_cache, activation = \"relu\")\n",
    "print (\"relu:\")\n",
    "print (\"dA_prev = \"+ str(dA_prev))\n",
    "print (\"dW = \" + str(dW))\n",
    "print (\"db = \" + str(db))"
   ]
  },
  {
   "cell_type": "markdown",
   "id": "0ffa2a10",
   "metadata": {},
   "source": [
    "**预期得到的输出**:\n",
    "    \n",
    "```\n",
    "sigmoid:\n",
    "dA_prev = [[ 0.11017994  0.01105339]\n",
    " [ 0.09466817  0.00949723]\n",
    " [-0.05743092 -0.00576154]]\n",
    "dW = [[ 0.10266786  0.09778551 -0.01968084]]\n",
    "db = [[-0.05729622]]\n",
    "\n",
    "relu:\n",
    "dA_prev = [[ 0.44090989 -0.        ]\n",
    " [ 0.37883606 -0.        ]\n",
    " [-0.2298228   0.        ]]\n",
    "dW = [[ 0.44513824  0.37371418 -0.10478989]]\n",
    "db = [[-0.20837892]]\n",
    "```"
   ]
  },
  {
   "cell_type": "markdown",
   "id": "fd2fc144",
   "metadata": {},
   "source": [
    "# 4 - L-Layer Model \n",
    "\n",
    "## 4.1 - 前向传播\n",
    "\n",
    "\n",
    "For even more convenience when implementing the $L$-layer Neural Net, you will need a function that replicates the previous one (`linear_activation_forward` with RELU) $L-1$ times, then follows that with one `linear_activation_forward` with SIGMOID.\n",
    "\n",
    "<img src=\"images/model_architecture_kiank.png\" style=\"width:600px;height:300px;\">\n",
    "<caption><center> **Figure 2** : *[LINEAR -> RELU] $\\times$ (L-1) -> LINEAR -> SIGMOID* model</center></caption><br>\n",
    "\n",
    "**Exercise**: Implement the forward propagation of the above model.\n",
    "\n",
    "**Instruction**: In the code below, the variable `AL` will denote $A^{[L]} = \\sigma(Z^{[L]}) = \\sigma(W^{[L]} A^{[L-1]} + b^{[L]})$. (This is sometimes also called `Yhat`, i.e., this is $\\hat{Y}$.) \n",
    "\n",
    "**Tips**:\n",
    "- Use the functions you had previously written \n",
    "- Use a for loop to replicate [LINEAR->RELU] (L-1) times\n",
    "- Don't forget to keep track of the caches in the \"caches\" list. To add a new value `c` to a `list`, you can use `list.append(c)`."
   ]
  },
  {
   "cell_type": "code",
   "execution_count": null,
   "id": "15e83360",
   "metadata": {},
   "outputs": [],
   "source": [
    "from layers import L_model_forward\n",
    "from test_cases import L_model_forward_test_case_2hidden\n",
    "\n",
    "X, parameters = L_model_forward_test_case_2hidden()\n",
    "AL, caches = L_model_forward(X, parameters)\n",
    "print(\"AL = \" + str(AL))\n",
    "print(\"Length of caches list = \" + str(len(caches)))"
   ]
  },
  {
   "cell_type": "markdown",
   "id": "65f2a4d1",
   "metadata": {},
   "source": [
    "**预期得到的输出**:\n",
    "    \n",
    "```\n",
    "AL = [[ 0.03921668  0.70498921  0.19734387  0.04728177]]\n",
    "Length of caches list = 3\n",
    "```"
   ]
  },
  {
   "cell_type": "markdown",
   "id": "9bdf8ab7",
   "metadata": {},
   "source": [
    "## 4.2 - 后向传播\n",
    "\n",
    "Just like with forward propagation, you will implement helper functions for backpropagation. Remember that back propagation is used to calculate the gradient of the loss function with respect to the parameters. \n",
    "\n",
    "**Reminder**: \n",
    "<img src=\"images/backprop_kiank.png\" style=\"width:650px;height:250px;\">\n",
    "<caption><center> **Figure 3** : Forward and Backward propagation for *LINEAR->RELU->LINEAR->SIGMOID* <br> *The purple blocks represent the forward propagation, and the red blocks represent the backward propagation.*  </center></caption>\n",
    "\n",
    "<!-- \n",
    "For those of you who are expert in calculus (you don't need to be to do this assignment), the chain rule of calculus can be used to derive the derivative of the loss $\\mathcal{L}$ with respect to $z^{[1]}$ in a 2-layer network as follows:\n",
    "\n",
    "$$\\frac{d \\mathcal{L}(a^{[2]},y)}{{dz^{[1]}}} = \\frac{d\\mathcal{L}(a^{[2]},y)}{{da^{[2]}}}\\frac{{da^{[2]}}}{{dz^{[2]}}}\\frac{{dz^{[2]}}}{{da^{[1]}}}\\frac{{da^{[1]}}}{{dz^{[1]}}} \\tag{8} $$\n",
    "\n",
    "In order to calculate the gradient $dW^{[1]} = \\frac{\\partial L}{\\partial W^{[1]}}$, you use the previous chain rule and you do $dW^{[1]} = dz^{[1]} \\times \\frac{\\partial z^{[1]} }{\\partial W^{[1]}}$. During the backpropagation, at each step you multiply your current gradient by the gradient corresponding to the specific layer to get the gradient you wanted.\n",
    "\n",
    "Equivalently, in order to calculate the gradient $db^{[1]} = \\frac{\\partial L}{\\partial b^{[1]}}$, you use the previous chain rule and you do $db^{[1]} = dz^{[1]} \\times \\frac{\\partial z^{[1]} }{\\partial b^{[1]}}$.\n",
    "\n",
    "This is why we talk about **backpropagation**.\n",
    "!-->\n",
    "\n",
    "Now, similar to forward propagation, you are going to build the backward propagation in three steps:\n",
    "- LINEAR backward\n",
    "- LINEAR -> ACTIVATION backward where ACTIVATION computes the derivative of either the ReLU or sigmoid activation\n",
    "- [LINEAR -> RELU] $\\times$ (L-1) -> LINEAR -> SIGMOID backward (whole model)"
   ]
  },
  {
   "cell_type": "markdown",
   "id": "7326fa6a",
   "metadata": {},
   "source": [
    "Now you will implement the backward function for the whole network. Recall that when you implemented the `L_model_forward` function, at each iteration, you stored a cache which contains (X,W,b, and z). In the back propagation module, you will use those variables to compute the gradients. Therefore, in the `L_model_backward` function, you will iterate through all the hidden layers backward, starting from layer $L$. On each step, you will use the cached values for layer $l$ to backpropagate through layer $l$. Figure 5 below shows the backward pass. \n",
    "\n",
    "\n",
    "<img src=\"images/mn_backward.png\" style=\"width:450px;height:300px;\">\n",
    "<caption><center>  **Figure 5** : Backward pass  </center></caption>\n",
    "\n",
    "** Initializing backpropagation**:\n",
    "To backpropagate through this network, we know that the output is, \n",
    "$A^{[L]} = \\sigma(Z^{[L]})$. Your code thus needs to compute `dAL` $= \\frac{\\partial \\mathcal{L}}{\\partial A^{[L]}}$.\n",
    "To do so, use this formula (derived using calculus which you don't need in-depth knowledge of):\n",
    "```python\n",
    "dAL = - (np.divide(Y, AL) - np.divide(1 - Y, 1 - AL)) # derivative of cost with respect to AL\n",
    "```\n",
    "\n",
    "You can then use this post-activation gradient `dAL` to keep going backward. As seen in Figure 5, you can now feed in `dAL` into the LINEAR->SIGMOID backward function you implemented (which will use the cached values stored by the L_model_forward function). After that, you will have to use a `for` loop to iterate through all the other layers using the LINEAR->RELU backward function. You should store each dA, dW, and db in the grads dictionary. To do so, use this formula : \n",
    "\n",
    "$$grads[\"dW\" + str(l)] = dW^{[l]}\\tag{15} $$\n",
    "\n",
    "For example, for $l=3$ this would store $dW^{[l]}$ in `grads[\"dW3\"]`.\n",
    "\n",
    "**Exercise**: Implement backpropagation for the *[LINEAR->RELU] $\\times$ (L-1) -> LINEAR -> SIGMOID* model."
   ]
  },
  {
   "cell_type": "code",
   "execution_count": null,
   "id": "a7522913",
   "metadata": {},
   "outputs": [],
   "source": [
    "from layers import L_model_backward\n",
    "from test_cases import L_model_backward_test_case, print_grads\n",
    "\n",
    "AL, Y_assess, caches = L_model_backward_test_case()\n",
    "grads = L_model_backward(AL, Y_assess, caches)\n",
    "print_grads(grads)"
   ]
  },
  {
   "cell_type": "markdown",
   "id": "ea600248",
   "metadata": {},
   "source": [
    "**预期得到的输出**:\n",
    "    \n",
    "```\n",
    "dW1 = [[0.41010002 0.07807203 0.13798444 0.10502167]\n",
    " [0.         0.         0.         0.        ]\n",
    " [0.05283652 0.01005865 0.01777766 0.0135308 ]]\n",
    "db1 = [[-0.22007063]\n",
    " [ 0.        ]\n",
    " [-0.02835349]]\n",
    "dA1 = [[ 0.          0.52257901]\n",
    " [ 0.         -0.3269206 ]\n",
    " [ 0.         -0.32070404]\n",
    " [ 0.         -0.74079187]]\n",
    "```"
   ]
  },
  {
   "cell_type": "markdown",
   "id": "801b3227",
   "metadata": {},
   "source": [
    "# 5 - 损失函数\n",
    "Now you will implement forward and backward propagation. You need to compute the cost, because you want to check if your model is actually learning.\n",
    "\n",
    "**Exercise**: Compute the cross-entropy cost $J$, using the following formula: $$-\\frac{1}{m} \\sum\\limits_{i = 1}^{m} (y^{(i)}\\log\\left(a^{[L] (i)}\\right) + (1-y^{(i)})\\log\\left(1- a^{[L](i)}\\right)) \\tag{7}$$\n"
   ]
  },
  {
   "cell_type": "code",
   "execution_count": null,
   "id": "014ed9c7",
   "metadata": {},
   "outputs": [],
   "source": [
    "from loss import cross_entropy_loss\n",
    "from test_cases import cross_entropy_loss_test_case\n",
    "\n",
    "Y, AL = cross_entropy_loss_test_case()\n",
    "\n",
    "print(\"loss = \" + str(cross_entropy_loss(AL, Y)))"
   ]
  },
  {
   "cell_type": "markdown",
   "id": "3d9f44b2",
   "metadata": {},
   "source": [
    "**预期得到的输出**:\n",
    "    \n",
    "```\n",
    "loss = 0.41493159961539694\n",
    "```"
   ]
  },
  {
   "cell_type": "markdown",
   "id": "29a97525",
   "metadata": {},
   "source": [
    "# 6 - Initialization\n",
    "\n",
    "You will write two helper functions that will initialize the parameters for your model. The first function will be used to initialize parameters for a two layer model. The second one will generalize this initialization process to $L$ layers.\n",
    "\n",
    "## 6.1 - 2-layer Neural Network\n",
    "\n",
    "**Exercise**: Create and initialize the parameters of the 2-layer neural network.\n",
    "\n",
    "**Instructions**:\n",
    "- The model's structure is: *LINEAR -> RELU -> LINEAR -> SIGMOID*. \n",
    "- Use random initialization for the weight matrices. Use `np.random.randn(shape)*0.01` with the correct shape.\n",
    "- Use zero initialization for the biases. Use `np.zeros(shape)`."
   ]
  },
  {
   "cell_type": "code",
   "execution_count": null,
   "id": "8c85c125",
   "metadata": {},
   "outputs": [],
   "source": [
    "from initial import initialize_parameters\n",
    "\n",
    "parameters = initialize_parameters(3,2,1)\n",
    "print(\"W1 = \" + str(parameters[\"W1\"]))\n",
    "print(\"b1 = \" + str(parameters[\"b1\"]))\n",
    "print(\"W2 = \" + str(parameters[\"W2\"]))\n",
    "print(\"b2 = \" + str(parameters[\"b2\"]))"
   ]
  },
  {
   "cell_type": "markdown",
   "id": "c8f3aef4",
   "metadata": {},
   "source": [
    "**预期得到的输出**:\n",
    "    \n",
    "```\n",
    "W1 = [[ 0.01624345 -0.00611756 -0.00528172]\n",
    " [-0.01072969  0.00865408 -0.02301539]]\n",
    "b1 = [[ 0.]\n",
    " [ 0.]]\n",
    "W2 = [[ 0.01744812 -0.00761207]]\n",
    "b2 = [[ 0.]]\n",
    "```"
   ]
  },
  {
   "cell_type": "markdown",
   "id": "29324a82",
   "metadata": {},
   "source": [
    "### 3.2 - L-layer Neural Network\n",
    "\n",
    "The initialization for a deeper L-layer neural network is more complicated because there are many more weight matrices and bias vectors. When completing the `initialize_parameters_deep`, you should make sure that your dimensions match between each layer. Recall that $n^{[l]}$ is the number of units in layer $l$. Thus for example if the size of our input $X$ is $(12288, 209)$ (with $m=209$ examples) then:"
   ]
  },
  {
   "cell_type": "markdown",
   "id": "66ee3051",
   "metadata": {},
   "source": [
    "|  |  **Shape of W** | **Shape of b** |  **Activation** | **Shape of Activation** |\n",
    "|  :----: |  :---- |  :---- |  :---- |  :---- |\n",
    "| **Layer 1** |  $(n^{[1]},12288)$ | $(n^{[1]},1)$  | $Z^{[1]} = W^{[1]}  X + b^{[1]}$ | $(n^{[1]},209)$ |\n",
    "| **Layer 1** |  $A$ | $A$  | $A$ | $A$ |\n",
    "| **Layer 1** |  $A$ | $A$  | $A$ | $A$ |\n",
    "| **Layer 1** |  $A$ | $A$  | $A$ | $A$ |\n",
    "| **Layer 1** |  $A$ | $A$  | $A$ | $A$ |\n",
    "| **Layer 1** |  $A$ | $A$  | $A$ | $A$ |\n",
    "| **Layer 1** |  $A$ | $A$  | $A$ | $A$ |"
   ]
  },
  {
   "cell_type": "markdown",
   "id": "eef3dc9e",
   "metadata": {},
   "source": [
    "\n",
    "Remember that when we compute $W X + b$ in python, it carries out broadcasting. For example, if: \n",
    "\n",
    "$$ W = \\begin{bmatrix}\n",
    "    j  & k  & l\\\\\n",
    "    m  & n & o \\\\\n",
    "    p  & q & r \n",
    "\\end{bmatrix}\\;\\;\\; X = \\begin{bmatrix}\n",
    "    a  & b  & c\\\\\n",
    "    d  & e & f \\\\\n",
    "    g  & h & i \n",
    "\\end{bmatrix} \\;\\;\\; b =\\begin{bmatrix}\n",
    "    s  \\\\\n",
    "    t  \\\\\n",
    "    u\n",
    "\\end{bmatrix}\\tag{2}$$\n",
    "\n",
    "Then $WX + b$ will be:\n",
    "\n",
    "$$ WX + b = \\begin{bmatrix}\n",
    "    (ja + kd + lg) + s  & (jb + ke + lh) + s  & (jc + kf + li)+ s\\\\\n",
    "    (ma + nd + og) + t & (mb + ne + oh) + t & (mc + nf + oi) + t\\\\\n",
    "    (pa + qd + rg) + u & (pb + qe + rh) + u & (pc + qf + ri)+ u\n",
    "\\end{bmatrix}\\tag{3}  $$"
   ]
  },
  {
   "cell_type": "markdown",
   "id": "1afe1c1d",
   "metadata": {},
   "source": [
    "**Exercise**: Implement initialization for an L-layer Neural Network. \n",
    "\n",
    "**Instructions**:\n",
    "- The model's structure is *[LINEAR -> RELU] $ \\times$ (L-1) -> LINEAR -> SIGMOID*. I.e., it has $L-1$ layers using a ReLU activation function followed by an output layer with a sigmoid activation function.\n",
    "- Use random initialization for the weight matrices. Use `np.random.randn(shape) * 0.01`.\n",
    "- Use zeros initialization for the biases. Use `np.zeros(shape)`.\n",
    "- We will store $n^{[l]}$, the number of units in different layers, in a variable `layer_dims`. For example, the `layer_dims` for the \"Planar Data classification model\" from last week would have been [2,4,1]: There were two inputs, one hidden layer with 4 hidden units, and an output layer with 1 output unit. This means `W1`'s shape was (4,2), `b1` was (4,1), `W2` was (1,4) and `b2` was (1,1). Now you will generalize this to $L$ layers! \n",
    "- Here is the implementation for $L=1$ (one layer neural network). It should inspire you to implement the general case (L-layer neural network).\n",
    "```python\n",
    "    if L == 1:\n",
    "        parameters[\"W\" + str(L)] = np.random.randn(layer_dims[1], layer_dims[0]) * 0.01\n",
    "        parameters[\"b\" + str(L)] = np.zeros((layer_dims[1], 1))\n",
    "```"
   ]
  },
  {
   "cell_type": "code",
   "execution_count": null,
   "id": "da4b6c03",
   "metadata": {},
   "outputs": [],
   "source": [
    "from initial import initialize_parameters_deep\n",
    "\n",
    "parameters = initialize_parameters_deep([5,4,3])\n",
    "print(\"W1 = \" + str(parameters[\"W1\"]))\n",
    "print(\"b1 = \" + str(parameters[\"b1\"]))\n",
    "print(\"W2 = \" + str(parameters[\"W2\"]))\n",
    "print(\"b2 = \" + str(parameters[\"b2\"]))"
   ]
  },
  {
   "cell_type": "markdown",
   "id": "53771ebe",
   "metadata": {},
   "source": [
    "**预期得到的输出**:\n",
    "    \n",
    "```\n",
    "W1 = [[ 0.72642933 -0.27358579 -0.23620559 -0.47984616  0.38702206]\n",
    " [-1.0292794   0.78030354 -0.34042208  0.14267862 -0.11152182]\n",
    " [ 0.65387455 -0.92132293 -0.14418936 -0.17175433  0.50703711]\n",
    " [-0.49188633 -0.07711224 -0.39259022  0.01887856  0.26064289]]\n",
    "b1 = [[0.]\n",
    " [0.]\n",
    " [0.]\n",
    " [0.]]\n",
    "W2 = [[-0.55030959  0.57236185  0.45079536  0.25124717]\n",
    " [ 0.45042797 -0.34186393 -0.06144511 -0.46788472]\n",
    " [-0.13394404  0.26517773 -0.34583038 -0.19837676]]\n",
    "b2 = [[0.]\n",
    " [0.]\n",
    " [0.]]\n",
    "```"
   ]
  },
  {
   "cell_type": "markdown",
   "id": "56fb41cd",
   "metadata": {},
   "source": [
    "# 7 - 梯度下降\n",
    "In this section you will update the parameters of the model, using gradient descent: \n",
    "\n",
    "$$ W^{[l]} = W^{[l]} - \\alpha \\text{ } dW^{[l]} \\tag{16}$$\n",
    "$$ b^{[l]} = b^{[l]} - \\alpha \\text{ } db^{[l]} \\tag{17}$$\n",
    "\n",
    "where $\\alpha$ is the learning rate. After computing the updated parameters, store them in the parameters dictionary. "
   ]
  },
  {
   "cell_type": "markdown",
   "id": "2a496185",
   "metadata": {},
   "source": [
    "**Exercise**: Implement `gradient_descent()` to update your parameters using gradient descent.\n",
    "\n",
    "**Instructions**:\n",
    "Update parameters using gradient descent on every $W^{[l]}$ and $b^{[l]}$ for $l = 1, 2, ..., L$. "
   ]
  },
  {
   "cell_type": "code",
   "execution_count": null,
   "id": "d6dceb4c",
   "metadata": {},
   "outputs": [],
   "source": [
    "from optim import gradient_descent\n",
    "from test_cases import gradient_descent_test_case\n",
    "\n",
    "parameters, grads = update_parameters_test_case()\n",
    "parameters = gradient_descent(parameters, grads, 0.1)\n",
    "\n",
    "print (\"W1 = \"+ str(parameters[\"W1\"]))\n",
    "print (\"b1 = \"+ str(parameters[\"b1\"]))\n",
    "print (\"W2 = \"+ str(parameters[\"W2\"]))\n",
    "print (\"b2 = \"+ str(parameters[\"b2\"]))"
   ]
  },
  {
   "cell_type": "markdown",
   "id": "ef8ef285",
   "metadata": {},
   "source": [
    "**预期得到的输出**:\n",
    "    \n",
    "```\n",
    "W1 = [[-0.59562069 -0.09991781 -2.14584584  1.82662008]\n",
    " [-1.76569676 -0.80627147  0.51115557 -1.18258802]\n",
    " [-1.0535704  -0.86128581  0.68284052  2.20374577]]\n",
    "b1 = [[-0.04659241]\n",
    " [-1.28888275]\n",
    " [ 0.53405496]]\n",
    "W2 = [[-0.55569196  0.0354055   1.32964895]]\n",
    "b2 = [[-0.84610769]]\n",
    "```"
   ]
  },
  {
   "cell_type": "markdown",
   "id": "93f0cb1e",
   "metadata": {},
   "source": [
    "# 8 - 总结\n",
    "\n",
    "恭喜您成功实现了构建深度神经网络所需的所有函数！\n",
    "\n",
    "我们知道这是一个漫长的任务，但未来的任务只会变得更好。下一个任务的难度会降低。\n",
    "\n",
    "在下一个任务中，您将把所有这些函数结合起来构建两个模型：\n",
    "\n",
    "- 一个两层神经网络\n",
    "- 一个 L 层神经网络\n",
    "\n",
    "请用Jupyter Notebook打来 `Application.ipynb`进入下一个lab，您将使用这些模型来对猫和非猫图像进行分类！"
   ]
  }
 ],
 "metadata": {
  "kernelspec": {
   "display_name": "Python 3 (ipykernel)",
   "language": "python",
   "name": "python3"
  },
  "language_info": {
   "codemirror_mode": {
    "name": "ipython",
    "version": 3
   },
   "file_extension": ".py",
   "mimetype": "text/x-python",
   "name": "python",
   "nbconvert_exporter": "python",
   "pygments_lexer": "ipython3",
   "version": "3.11.5"
  }
 },
 "nbformat": 4,
 "nbformat_minor": 5
}
